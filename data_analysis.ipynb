{
 "cells": [
  {
   "cell_type": "code",
   "execution_count": 1,
   "metadata": {},
   "outputs": [],
   "source": [
    "import pandas as pd\n",
    "import matplotlib.pyplot as plt\n",
    "import seaborn as sns"
   ]
  },
  {
   "cell_type": "code",
   "execution_count": 21,
   "metadata": {},
   "outputs": [],
   "source": [
    "url = 'gsearch_jobs.csv'"
   ]
  },
  {
   "cell_type": "code",
   "execution_count": 14,
   "metadata": {},
   "outputs": [],
   "source": [
    "def data_wrangler(url):\n",
    "    df = pd.read_csv(url,parse_dates=['date_time'])\n",
    "    columns2drop = ['Unnamed: 0','commute_time','index']\n",
    "    df.drop(columns=columns2drop,inplace=True)\n",
    "    df['location'] = df['location'].str.strip()\n",
    "\n",
    "    return df"
   ]
  },
  {
   "cell_type": "code",
   "execution_count": 22,
   "metadata": {},
   "outputs": [],
   "source": [
    "df = data_wrangler(url)"
   ]
  },
  {
   "cell_type": "code",
   "execution_count": 23,
   "metadata": {},
   "outputs": [
    {
     "data": {
      "text/html": [
       "<div>\n",
       "<style scoped>\n",
       "    .dataframe tbody tr th:only-of-type {\n",
       "        vertical-align: middle;\n",
       "    }\n",
       "\n",
       "    .dataframe tbody tr th {\n",
       "        vertical-align: top;\n",
       "    }\n",
       "\n",
       "    .dataframe thead th {\n",
       "        text-align: right;\n",
       "    }\n",
       "</style>\n",
       "<table border=\"1\" class=\"dataframe\">\n",
       "  <thead>\n",
       "    <tr style=\"text-align: right;\">\n",
       "      <th></th>\n",
       "      <th>title</th>\n",
       "      <th>company_name</th>\n",
       "      <th>date_time</th>\n",
       "    </tr>\n",
       "  </thead>\n",
       "  <tbody>\n",
       "    <tr>\n",
       "      <th>9721</th>\n",
       "      <td>Looker Studio Data Dashboards for Wordpress We...</td>\n",
       "      <td>Upwork</td>\n",
       "      <td>2023-10-09 03:00:44.514840</td>\n",
       "    </tr>\n",
       "    <tr>\n",
       "      <th>9714</th>\n",
       "      <td>Google Looker Data Setup and Support</td>\n",
       "      <td>Upwork</td>\n",
       "      <td>2023-10-09 03:00:37.439714</td>\n",
       "    </tr>\n",
       "    <tr>\n",
       "      <th>9705</th>\n",
       "      <td>Sales Analytics &amp; Business Intelligence Analys...</td>\n",
       "      <td>Talentify.io</td>\n",
       "      <td>2023-10-09 03:00:32.866342</td>\n",
       "    </tr>\n",
       "    <tr>\n",
       "      <th>9700</th>\n",
       "      <td>Data analysis using to prove hypothesis relate...</td>\n",
       "      <td>Upwork</td>\n",
       "      <td>2023-10-09 03:00:32.866342</td>\n",
       "    </tr>\n",
       "    <tr>\n",
       "      <th>9692</th>\n",
       "      <td>Econometric and data science career consultation</td>\n",
       "      <td>Upwork</td>\n",
       "      <td>2023-10-09 03:00:30.457801</td>\n",
       "    </tr>\n",
       "  </tbody>\n",
       "</table>\n",
       "</div>"
      ],
      "text/plain": [
       "                                                  title  company_name  \\\n",
       "9721  Looker Studio Data Dashboards for Wordpress We...        Upwork   \n",
       "9714               Google Looker Data Setup and Support        Upwork   \n",
       "9705  Sales Analytics & Business Intelligence Analys...  Talentify.io   \n",
       "9700  Data analysis using to prove hypothesis relate...        Upwork   \n",
       "9692   Econometric and data science career consultation        Upwork   \n",
       "\n",
       "                      date_time  \n",
       "9721 2023-10-09 03:00:44.514840  \n",
       "9714 2023-10-09 03:00:37.439714  \n",
       "9705 2023-10-09 03:00:32.866342  \n",
       "9700 2023-10-09 03:00:32.866342  \n",
       "9692 2023-10-09 03:00:30.457801  "
      ]
     },
     "execution_count": 23,
     "metadata": {},
     "output_type": "execute_result"
    }
   ],
   "source": [
    "(df[(df['location']=='Anywhere')&(df['date_time']>'2023-10-09')]\n",
    ".sort_values(by='date_time',ascending=False)[['title','company_name','date_time']]\n",
    ".head())"
   ]
  },
  {
   "cell_type": "code",
   "execution_count": null,
   "metadata": {},
   "outputs": [],
   "source": []
  }
 ],
 "metadata": {
  "kernelspec": {
   "display_name": "base",
   "language": "python",
   "name": "python3"
  },
  "language_info": {
   "codemirror_mode": {
    "name": "ipython",
    "version": 3
   },
   "file_extension": ".py",
   "mimetype": "text/x-python",
   "name": "python",
   "nbconvert_exporter": "python",
   "pygments_lexer": "ipython3",
   "version": "3.9.17"
  }
 },
 "nbformat": 4,
 "nbformat_minor": 2
}
