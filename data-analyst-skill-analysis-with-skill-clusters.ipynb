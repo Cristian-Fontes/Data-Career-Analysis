{
 "cells": [
  {
   "cell_type": "markdown",
   "id": "ad662e48",
   "metadata": {
    "papermill": {
     "duration": 0.007973,
     "end_time": "2023-06-27T03:00:38.339567",
     "exception": false,
     "start_time": "2023-06-27T03:00:38.331594",
     "status": "completed"
    },
    "tags": []
   },
   "source": [
    "## Library Support"
   ]
  },
  {
   "cell_type": "code",
   "execution_count": 1,
   "id": "e2e0a8ac",
   "metadata": {
    "execution": {
     "iopub.execute_input": "2023-06-27T03:00:38.357216Z",
     "iopub.status.busy": "2023-06-27T03:00:38.356685Z",
     "iopub.status.idle": "2023-06-27T03:00:40.319744Z",
     "shell.execute_reply": "2023-06-27T03:00:40.318714Z"
    },
    "papermill": {
     "duration": 1.975186,
     "end_time": "2023-06-27T03:00:40.322753",
     "exception": false,
     "start_time": "2023-06-27T03:00:38.347567",
     "status": "completed"
    },
    "tags": []
   },
   "outputs": [],
   "source": [
    "import os\n",
    "import datetime\n",
    "import pandas as pd\n",
    "import numpy as np\n",
    "import matplotlib.pyplot as plt\n",
    "from google.cloud import bigquery\n",
    "import nltk\n",
    "from nltk.tokenize import word_tokenize, MWETokenizer\n",
    "\n",
    "# got tired of warnings 🙃\n",
    "import warnings\n",
    "warnings.filterwarnings('ignore')\n",
    "\n",
    "# Only need to run once\n",
    "# nltk.download('punkt')"
   ]
  },
  {
   "cell_type": "markdown",
   "id": "fcce8354",
   "metadata": {
    "papermill": {
     "duration": 0.007058,
     "end_time": "2023-06-27T03:00:40.338641",
     "exception": false,
     "start_time": "2023-06-27T03:00:40.331583",
     "status": "completed"
    },
    "tags": []
   },
   "source": [
    "## Import Data from CSV"
   ]
  },
  {
   "cell_type": "code",
   "execution_count": 2,
   "id": "cdf46e0f",
   "metadata": {
    "execution": {
     "iopub.execute_input": "2023-06-27T03:00:40.356366Z",
     "iopub.status.busy": "2023-06-27T03:00:40.355052Z",
     "iopub.status.idle": "2023-06-27T03:00:43.992699Z",
     "shell.execute_reply": "2023-06-27T03:00:43.991529Z"
    },
    "papermill": {
     "duration": 3.650582,
     "end_time": "2023-06-27T03:00:43.996002",
     "exception": false,
     "start_time": "2023-06-27T03:00:40.345420",
     "status": "completed"
    },
    "tags": []
   },
   "outputs": [],
   "source": [
    "data_url = '../input/data-analyst-job-postings-google-search/gsearch_jobs.csv'\n",
    "jobs_all = pd.read_csv(data_url).replace(\"'\",\"\", regex=True)\n",
    "jobs_all.date_time = pd.to_datetime(jobs_all.date_time) # convert to date time\n",
    "jobs_all = jobs_all.drop(labels=['Unnamed: 0', 'index'], axis=1, errors='ignore')\n",
    "jobs_all.description_tokens = jobs_all.description_tokens.str.strip(\"[]\").str.split(\",\")"
   ]
  },
  {
   "cell_type": "markdown",
   "id": "d9192c24",
   "metadata": {
    "papermill": {
     "duration": 0.006352,
     "end_time": "2023-06-27T03:00:44.009274",
     "exception": false,
     "start_time": "2023-06-27T03:00:44.002922",
     "status": "completed"
    },
    "tags": []
   },
   "source": [
    "## Data Integrity Check"
   ]
  },
  {
   "cell_type": "code",
   "execution_count": 3,
   "id": "a60a91cb",
   "metadata": {
    "execution": {
     "iopub.execute_input": "2023-06-27T03:00:44.024244Z",
     "iopub.status.busy": "2023-06-27T03:00:44.023801Z",
     "iopub.status.idle": "2023-06-27T03:00:44.090492Z",
     "shell.execute_reply": "2023-06-27T03:00:44.089048Z"
    },
    "papermill": {
     "duration": 0.077129,
     "end_time": "2023-06-27T03:00:44.092970",
     "exception": false,
     "start_time": "2023-06-27T03:00:44.015841",
     "status": "completed"
    },
    "tags": []
   },
   "outputs": [
    {
     "name": "stdout",
     "output_type": "stream",
     "text": [
      "Big Query Statistics:\n",
      "---------------------\n",
      "🚣‍♀️ Rows of data: 21555\n",
      "👯‍♀️ Number jobs repeated: 976\n",
      "❌ Missing data for following dates:\n",
      "2022-12-28 00:00:00\n",
      "2023-05-22 00:00:00\n",
      "2023-05-23 00:00:00\n",
      "2023-06-27 00:00:00\n",
      "🧑‍💻 Average number of jobs per day: 91\n",
      "📆 Collecting data for 237 days now...\n"
     ]
    }
   ],
   "source": [
    "print(\"Big Query Statistics:\")\n",
    "print(\"---------------------\")\n",
    "print(f\"🚣‍♀️ Rows of data: {len(jobs_all)}\")\n",
    "\n",
    "repeat_jobs = jobs_all.job_id.value_counts()\n",
    "try:\n",
    "    repeat_jobs = repeat_jobs[repeat_jobs>1].index[0]\n",
    "    repeat_jobs = len(repeat_jobs)\n",
    "except IndexError:\n",
    "    repeat_jobs = \"None\"\n",
    "print(f\"👯‍♀️ Number jobs repeated: {repeat_jobs}\")\n",
    "\n",
    "first_date = jobs_all.date_time.dt.date.min()\n",
    "today_date = datetime.date.today() #+ datetime.timedelta(days=2) # test function works\n",
    "date_count = pd.DataFrame(jobs_all.date_time.dt.date.value_counts())\n",
    "missing_dates = list(pd.date_range(start=first_date, end=today_date).difference(date_count.index))\n",
    "if len(missing_dates) > 0:\n",
    "    print(\"❌ Missing data for following dates:\")\n",
    "    for date in missing_dates:\n",
    "        print(date)\n",
    "else:\n",
    "    print(f\"✅ No missing dates of data since inception of: {first_date}\")\n",
    "\n",
    "delta_days = (today_date - (first_date - datetime.timedelta(days=2))).days # first day was actually day prior but UTC\n",
    "jobs_day = round(len(jobs_all)/delta_days)\n",
    "print(f\"🧑‍💻 Average number of jobs per day: {jobs_day}\")\n",
    "print(f\"📆 Collecting data for {delta_days} days now...\")"
   ]
  },
  {
   "cell_type": "markdown",
   "id": "f2c966a2",
   "metadata": {
    "papermill": {
     "duration": 0.006997,
     "end_time": "2023-06-27T03:00:44.106863",
     "exception": false,
     "start_time": "2023-06-27T03:00:44.099866",
     "status": "completed"
    },
    "tags": []
   },
   "source": [
    "## Exploratory Data Analysis"
   ]
  },
  {
   "cell_type": "code",
   "execution_count": 4,
   "id": "f2de5ec7",
   "metadata": {
    "execution": {
     "iopub.execute_input": "2023-06-27T03:00:44.122705Z",
     "iopub.status.busy": "2023-06-27T03:00:44.122295Z",
     "iopub.status.idle": "2023-06-27T03:00:45.542044Z",
     "shell.execute_reply": "2023-06-27T03:00:45.540729Z"
    },
    "papermill": {
     "duration": 1.430802,
     "end_time": "2023-06-27T03:00:45.544501",
     "exception": false,
     "start_time": "2023-06-27T03:00:44.113699",
     "status": "completed"
    },
    "tags": []
   },
   "outputs": [
    {
     "data": {
      "image/png": "[encoded data removed]",
      "text/plain": [
       "<Figure size 288x144 with 1 Axes>"
      ]
     },
     "metadata": {
      "needs_background": "light"
     },
     "output_type": "display_data"
    },
    {
     "data": {
      "image/png": "[encoded data removed]",
      "text/plain": [
       "<Figure size 288x144 with 1 Axes>"
      ]
     },
     "metadata": {
      "needs_background": "light"
     },
     "output_type": "display_data"
    },
    {
     "data": {
      "image/png": "[encoded data removed]",
      "text/plain": [
       "<Figure size 288x144 with 1 Axes>"
      ]
     },
     "metadata": {
      "needs_background": "light"
     },
     "output_type": "display_data"
    },
    {
     "data": {
      "image/png": "[encoded data removed]",
      "text/plain": [
       "<Figure size 288x144 with 1 Axes>"
      ]
     },
     "metadata": {
      "needs_background": "light"
     },
     "output_type": "display_data"
    },
    {
     "data": {
      "image/png": "[encoded data removed]",
      "text/plain": [
       "<Figure size 288x144 with 1 Axes>"
      ]
     },
     "metadata": {
      "needs_background": "light"
     },
     "output_type": "display_data"
    },
    {
     "data": {
      "image/png": "[encoded data removed]",
      "text/plain": [
       "<Figure size 288x144 with 1 Axes>"
      ]
     },
     "metadata": {
      "needs_background": "light"
     },
     "output_type": "display_data"
    }
   ],
   "source": [
    "def eda_plot(column, topn=10):\n",
    "    plt.figure(figsize=(4, 2))\n",
    "    jobs_all[column].value_counts().nlargest(topn).plot(kind='bar')\n",
    "    plt.title(f\"'{column}' column value counts\")\n",
    "    plt.ylabel(\"Counts\")\n",
    "    plt.xticks(rotation = 45, ha='right')\n",
    "    plt.show()\n",
    "\n",
    "columns = ['title', 'company_name', 'location', 'via', 'schedule_type', 'work_from_home']\n",
    "\n",
    "for column in columns:\n",
    "    eda_plot(column)\n"
   ]
  },
  {
   "cell_type": "markdown",
   "id": "97c9ab05",
   "metadata": {
    "papermill": {
     "duration": 0.009303,
     "end_time": "2023-06-27T03:00:45.565177",
     "exception": false,
     "start_time": "2023-06-27T03:00:45.555874",
     "status": "completed"
    },
    "tags": []
   },
   "source": [
    "## Data Cleaning\n",
    "This was previously done in the file import... but included for reference"
   ]
  },
  {
   "cell_type": "markdown",
   "id": "a1a054c6",
   "metadata": {
    "papermill": {
     "duration": 0.008609,
     "end_time": "2023-06-27T03:00:45.583357",
     "exception": false,
     "start_time": "2023-06-27T03:00:45.574748",
     "status": "completed"
    },
    "tags": []
   },
   "source": [
    "#### Salary Cleaning - Find min, max, avg, hourly, & yearly"
   ]
  },
  {
   "cell_type": "code",
   "execution_count": 5,
   "id": "c6467c85",
   "metadata": {
    "execution": {
     "iopub.execute_input": "2023-06-27T03:00:45.603293Z",
     "iopub.status.busy": "2023-06-27T03:00:45.602853Z",
     "iopub.status.idle": "2023-06-27T03:00:45.829190Z",
     "shell.execute_reply": "2023-06-27T03:00:45.827929Z"
    },
    "papermill": {
     "duration": 0.239959,
     "end_time": "2023-06-27T03:00:45.832246",
     "exception": false,
     "start_time": "2023-06-27T03:00:45.592287",
     "status": "completed"
    },
    "tags": []
   },
   "outputs": [
    {
     "data": {
      "text/html": [
       "<div>\n",
       "<style scoped>\n",
       "    .dataframe tbody tr th:only-of-type {\n",
       "        vertical-align: middle;\n",
       "    }\n",
       "\n",
       "    .dataframe tbody tr th {\n",
       "        vertical-align: top;\n",
       "    }\n",
       "\n",
       "    .dataframe thead th {\n",
       "        text-align: right;\n",
       "    }\n",
       "</style>\n",
       "<table border=\"1\" class=\"dataframe\">\n",
       "  <thead>\n",
       "    <tr style=\"text-align: right;\">\n",
       "      <th></th>\n",
       "      <th>company_name</th>\n",
       "      <th>salary</th>\n",
       "      <th>salary_pay</th>\n",
       "      <th>salary_rate</th>\n",
       "      <th>salary_avg</th>\n",
       "      <th>salary_min</th>\n",
       "      <th>salary_max</th>\n",
       "      <th>salary_standardized</th>\n",
       "      <th>salary_hourly</th>\n",
       "      <th>salary_yearly</th>\n",
       "    </tr>\n",
       "  </thead>\n",
       "  <tbody>\n",
       "    <tr>\n",
       "      <th>6</th>\n",
       "      <td>Upwork</td>\n",
       "      <td>37–75 an hour</td>\n",
       "      <td>37–75</td>\n",
       "      <td>an hour</td>\n",
       "      <td>56.0</td>\n",
       "      <td>37</td>\n",
       "      <td>75</td>\n",
       "      <td>116480.0</td>\n",
       "      <td>56.0</td>\n",
       "      <td>NaN</td>\n",
       "    </tr>\n",
       "    <tr>\n",
       "      <th>13</th>\n",
       "      <td>Charles River Laboratories</td>\n",
       "      <td>65K–75K a year</td>\n",
       "      <td>65K–75K</td>\n",
       "      <td>a year</td>\n",
       "      <td>70000.0</td>\n",
       "      <td>65000.0</td>\n",
       "      <td>75000.0</td>\n",
       "      <td>70000.0</td>\n",
       "      <td>NaN</td>\n",
       "      <td>70000.0</td>\n",
       "    </tr>\n",
       "    <tr>\n",
       "      <th>23</th>\n",
       "      <td>Charles River Laboratories</td>\n",
       "      <td>65K–75K a year</td>\n",
       "      <td>65K–75K</td>\n",
       "      <td>a year</td>\n",
       "      <td>70000.0</td>\n",
       "      <td>65000.0</td>\n",
       "      <td>75000.0</td>\n",
       "      <td>70000.0</td>\n",
       "      <td>NaN</td>\n",
       "      <td>70000.0</td>\n",
       "    </tr>\n",
       "    <tr>\n",
       "      <th>33</th>\n",
       "      <td>Charles River Laboratories</td>\n",
       "      <td>65K–75K a year</td>\n",
       "      <td>65K–75K</td>\n",
       "      <td>a year</td>\n",
       "      <td>70000.0</td>\n",
       "      <td>65000.0</td>\n",
       "      <td>75000.0</td>\n",
       "      <td>70000.0</td>\n",
       "      <td>NaN</td>\n",
       "      <td>70000.0</td>\n",
       "    </tr>\n",
       "    <tr>\n",
       "      <th>43</th>\n",
       "      <td>Upwork</td>\n",
       "      <td>15–45 an hour</td>\n",
       "      <td>15–45</td>\n",
       "      <td>an hour</td>\n",
       "      <td>30.0</td>\n",
       "      <td>15</td>\n",
       "      <td>45</td>\n",
       "      <td>62400.0</td>\n",
       "      <td>30.0</td>\n",
       "      <td>NaN</td>\n",
       "    </tr>\n",
       "    <tr>\n",
       "      <th>73</th>\n",
       "      <td>Brooksource</td>\n",
       "      <td>40–45 an hour</td>\n",
       "      <td>40–45</td>\n",
       "      <td>an hour</td>\n",
       "      <td>42.5</td>\n",
       "      <td>40</td>\n",
       "      <td>45</td>\n",
       "      <td>88400.0</td>\n",
       "      <td>42.5</td>\n",
       "      <td>NaN</td>\n",
       "    </tr>\n",
       "    <tr>\n",
       "      <th>77</th>\n",
       "      <td>Upwork</td>\n",
       "      <td>45–65 an hour</td>\n",
       "      <td>45–65</td>\n",
       "      <td>an hour</td>\n",
       "      <td>55.0</td>\n",
       "      <td>45</td>\n",
       "      <td>65</td>\n",
       "      <td>114400.0</td>\n",
       "      <td>55.0</td>\n",
       "      <td>NaN</td>\n",
       "    </tr>\n",
       "    <tr>\n",
       "      <th>88</th>\n",
       "      <td>Insight Global</td>\n",
       "      <td>110K–135K a year</td>\n",
       "      <td>110K–135K</td>\n",
       "      <td>a year</td>\n",
       "      <td>122500.0</td>\n",
       "      <td>110000.0</td>\n",
       "      <td>135000.0</td>\n",
       "      <td>122500.0</td>\n",
       "      <td>NaN</td>\n",
       "      <td>122500.0</td>\n",
       "    </tr>\n",
       "    <tr>\n",
       "      <th>95</th>\n",
       "      <td>Upwork</td>\n",
       "      <td>15–50 an hour</td>\n",
       "      <td>15–50</td>\n",
       "      <td>an hour</td>\n",
       "      <td>32.5</td>\n",
       "      <td>15</td>\n",
       "      <td>50</td>\n",
       "      <td>67600.0</td>\n",
       "      <td>32.5</td>\n",
       "      <td>NaN</td>\n",
       "    </tr>\n",
       "    <tr>\n",
       "      <th>103</th>\n",
       "      <td>Insight Global</td>\n",
       "      <td>40–45 an hour</td>\n",
       "      <td>40–45</td>\n",
       "      <td>an hour</td>\n",
       "      <td>42.5</td>\n",
       "      <td>40</td>\n",
       "      <td>45</td>\n",
       "      <td>88400.0</td>\n",
       "      <td>42.5</td>\n",
       "      <td>NaN</td>\n",
       "    </tr>\n",
       "  </tbody>\n",
       "</table>\n",
       "</div>"
      ],
      "text/plain": [
       "                   company_name            salary salary_pay salary_rate  \\\n",
       "6                        Upwork     37–75 an hour      37–75     an hour   \n",
       "13   Charles River Laboratories    65K–75K a year    65K–75K      a year   \n",
       "23   Charles River Laboratories    65K–75K a year    65K–75K      a year   \n",
       "33   Charles River Laboratories    65K–75K a year    65K–75K      a year   \n",
       "43                       Upwork     15–45 an hour      15–45     an hour   \n",
       "73                  Brooksource     40–45 an hour      40–45     an hour   \n",
       "77                       Upwork     45–65 an hour      45–65     an hour   \n",
       "88               Insight Global  110K–135K a year  110K–135K      a year   \n",
       "95                       Upwork     15–50 an hour      15–50     an hour   \n",
       "103              Insight Global     40–45 an hour      40–45     an hour   \n",
       "\n",
       "    salary_avg salary_min salary_max  salary_standardized  salary_hourly  \\\n",
       "6         56.0         37         75             116480.0           56.0   \n",
       "13     70000.0    65000.0    75000.0              70000.0            NaN   \n",
       "23     70000.0    65000.0    75000.0              70000.0            NaN   \n",
       "33     70000.0    65000.0    75000.0              70000.0            NaN   \n",
       "43        30.0         15         45              62400.0           30.0   \n",
       "73        42.5         40         45              88400.0           42.5   \n",
       "77        55.0         45         65             114400.0           55.0   \n",
       "88    122500.0   110000.0   135000.0             122500.0            NaN   \n",
       "95        32.5         15         50              67600.0           32.5   \n",
       "103       42.5         40         45              88400.0           42.5   \n",
       "\n",
       "     salary_yearly  \n",
       "6              NaN  \n",
       "13         70000.0  \n",
       "23         70000.0  \n",
       "33         70000.0  \n",
       "43             NaN  \n",
       "73             NaN  \n",
       "77             NaN  \n",
       "88        122500.0  \n",
       "95             NaN  \n",
       "103            NaN  "
      ]
     },
     "execution_count": 5,
     "metadata": {},
     "output_type": "execute_result"
    }
   ],
   "source": [
    "# Separate 'salary' column into that for min max avg and rate (e.g., hourly)\n",
    "jobs_all[['salary_pay', 'salary_rate']] = jobs_all.salary.str.split(' ', 1, expand=True)\n",
    "jobs_all.salary_pay = jobs_all.salary_pay.str.replace(',', '').str.replace('$', '').str.replace(' ', '')\n",
    "jobs_all['salary_avg'] = np.where(jobs_all.salary_pay.str.contains(\"–\"), np.NaN, jobs_all.salary_pay)  # The character U+2013 \"–\" could be confused with the character U+002d \"-\", which is more common in source code. Adjust settings\n",
    "jobs_all['salary_min'] = np.where(jobs_all.salary_pay.str.contains(\"–\"), jobs_all.salary_pay, np.NaN)\n",
    "jobs_all[['salary_min', 'salary_max']] = jobs_all.salary_min.str.split(\"–\", 1, expand=True)\n",
    "for column in ['salary_avg', 'salary_min', 'salary_max']:\n",
    "    jobs_all[column] = np.where(jobs_all[column].str.contains(\"K\"), jobs_all[column].str.replace(\"K\", \"\").astype(float) * 1000 , jobs_all[column] )\n",
    "jobs_all['salary_avg'] = np.where(~jobs_all.salary_min.isnull(), (jobs_all.salary_min.astype(float) + jobs_all.salary_max.astype(float))/2 , jobs_all.salary_avg)\n",
    "jobs_all['salary_hourly'] = np.where(jobs_all.salary_rate == 'an hour', jobs_all.salary_avg.astype(float), np.NaN)\n",
    "jobs_all['salary_yearly'] = np.where(jobs_all.salary_rate == 'a year', jobs_all.salary_avg.astype(float), np.NaN)\n",
    "\n",
    "# Standardize salary to all be annual\n",
    "jobs_all['salary_standardized'] = np.NaN\n",
    "salary_rate = {'a year': 1, 'an hour': 2080, 'a month': 12}\n",
    "for key, index in salary_rate.items():\n",
    "    jobs_all.salary_standardized = np.where(jobs_all.salary_rate == key, jobs_all.salary_avg.astype(float) * index, jobs_all.salary_standardized)\n",
    "\n",
    "# Used to check results as built above\n",
    "salary_df = jobs_all[~jobs_all.salary.isnull()]\n",
    "salary_df = salary_df[['company_name', 'salary', 'salary_pay', 'salary_rate', 'salary_avg', 'salary_min', 'salary_max', 'salary_standardized', 'salary_hourly', 'salary_yearly']] #, 'salary_min', 'salary_max']\n",
    "pd.set_option('display.max_rows', salary_df.shape[0]+1)\n",
    "salary_df.head(10)"
   ]
  },
  {
   "cell_type": "code",
   "execution_count": 6,
   "id": "bc4f1556",
   "metadata": {
    "execution": {
     "iopub.execute_input": "2023-06-27T03:00:45.854616Z",
     "iopub.status.busy": "2023-06-27T03:00:45.853995Z",
     "iopub.status.idle": "2023-06-27T03:00:46.635247Z",
     "shell.execute_reply": "2023-06-27T03:00:46.633881Z"
    },
    "papermill": {
     "duration": 0.795903,
     "end_time": "2023-06-27T03:00:46.638463",
     "exception": false,
     "start_time": "2023-06-27T03:00:45.842560",
     "status": "completed"
    },
    "tags": []
   },
   "outputs": [
    {
     "data": {
      "text/plain": [
       "Text(0.5, 0, '($USD/hr) Hourly Pay')"
      ]
     },
     "execution_count": 6,
     "metadata": {},
     "output_type": "execute_result"
    },
    {
     "data": {
      "image/png": "[encoded data removed]",
      "text/plain": [
       "<Figure size 432x792 with 3 Axes>"
      ]
     },
     "metadata": {
      "needs_background": "light"
     },
     "output_type": "display_data"
    }
   ],
   "source": [
    "# plt.figure(figsize=(10, 2))\n",
    "fig, axs = plt.subplots(3)\n",
    "fig.set_figheight(11)\n",
    "axs[0].hist(jobs_all.salary_standardized, bins = 20, color = 'plum')\n",
    "axs[0].set_title(\"Average Data Analyst Pay\")\n",
    "axs[0].set_xlabel(\"($USD/yr) All Salary Standardized to Yearly\")\n",
    "axs[1].hist(jobs_all.salary_yearly, bins = 20, color = 'skyblue')\n",
    "axs[1].set_xlabel(\"($USD/yr) Annual Salary\")\n",
    "axs[2].hist(jobs_all.salary_hourly, bins = 20, color = 'salmon')\n",
    "axs[2].set_xlabel(\"($USD/hr) Hourly Pay\")"
   ]
  },
  {
   "cell_type": "markdown",
   "id": "e0c49846",
   "metadata": {
    "papermill": {
     "duration": 0.009878,
     "end_time": "2023-06-27T03:00:46.658762",
     "exception": false,
     "start_time": "2023-06-27T03:00:46.648884",
     "status": "completed"
    },
    "tags": []
   },
   "source": [
    "#### Description Cleaning - Tokenize Languages & Tools"
   ]
  },
  {
   "cell_type": "code",
   "execution_count": 7,
   "id": "ace0a3a6",
   "metadata": {
    "execution": {
     "iopub.execute_input": "2023-06-27T03:00:46.681894Z",
     "iopub.status.busy": "2023-06-27T03:00:46.681488Z",
     "iopub.status.idle": "2023-06-27T03:02:47.335776Z",
     "shell.execute_reply": "2023-06-27T03:02:47.334366Z"
    },
    "papermill": {
     "duration": 120.670567,
     "end_time": "2023-06-27T03:02:47.340243",
     "exception": false,
     "start_time": "2023-06-27T03:00:46.669676",
     "status": "completed"
    },
    "tags": []
   },
   "outputs": [],
   "source": [
    "# Picked out keywords based on all keywords (only looked words with 100+ occurrences)\n",
    "keywords_programming = [\n",
    "'sql', 'python', 'r', 'c', 'c#', 'javascript', 'js',  'java', 'scala', 'sas', 'matlab', \n",
    "'c++', 'c/c++', 'perl', 'go', 'typescript', 'bash', 'html', 'css', 'php', 'powershell', 'rust', \n",
    "'kotlin', 'ruby',  'dart', 'assembly', 'swift', 'vba', 'lua', 'groovy', 'delphi', 'objective-c', \n",
    "'haskell', 'elixir', 'julia', 'clojure', 'solidity', 'lisp', 'f#', 'fortran', 'erlang', 'apl', \n",
    "'cobol', 'ocaml', 'crystal', 'javascript/typescript', 'golang', 'nosql', 'mongodb', 't-sql', 'no-sql',\n",
    "'visual_basic', 'pascal', 'mongo', 'pl/sql',  'sass', 'vb.net', 'mssql', \n",
    "]\n",
    "\n",
    "keywords_libraries = [\n",
    "'scikit-learn', 'jupyter', 'theano', 'openCV', 'spark', 'nltk', 'mlpack', 'chainer', 'fann', 'shogun', \n",
    "'dlib', 'mxnet', 'node.js', 'vue', 'vue.js', 'keras', 'ember.js', 'jse/jee',\n",
    "]\n",
    "\n",
    "keywords_analyst_tools = [\n",
    "'excel', 'tableau',  'word', 'powerpoint', 'looker', 'powerbi', 'outlook', 'azure', 'jira', 'twilio',  'snowflake', \n",
    "'shell', 'linux', 'sas', 'sharepoint', 'mysql', 'visio', 'git', 'mssql', 'powerpoints', 'postgresql', 'spreadsheets',\n",
    "'seaborn', 'pandas', 'gdpr', 'spreadsheet', 'alteryx', 'github', 'postgres', 'ssis', 'numpy', 'power_bi', 'spss', 'ssrs', \n",
    "'microstrategy',  'cognos', 'dax', 'matplotlib', 'dplyr', 'tidyr', 'ggplot2', 'plotly', 'esquisse', 'rshiny', 'mlr',\n",
    "'docker', 'linux', 'jira',  'hadoop', 'airflow', 'redis', 'graphql', 'sap', 'tensorflow', 'node', 'asp.net', 'unix',\n",
    "'jquery', 'pyspark', 'pytorch', 'gitlab', 'selenium', 'splunk', 'bitbucket', 'qlik', 'terminal', 'atlassian', 'unix/linux',\n",
    "'linux/unix', 'ubuntu', 'nuix', 'datarobot',\n",
    "]\n",
    "\n",
    "keywords_cloud_tools = [\n",
    "'aws', 'azure', 'gcp', 'snowflake', 'redshift', 'bigquery', 'aurora',\n",
    "]\n",
    "\n",
    "# Not using\n",
    "keywords_general_tools = [\n",
    "'microsoft', 'slack', 'apache', 'ibm', 'html5', 'datadog', 'bloomberg',  'ajax', 'persicope', 'oracle', \n",
    "]\n",
    "\n",
    "# Not using\n",
    "keywords_general = [\n",
    "'coding', 'server', 'database', 'cloud', 'warehousing', 'scrum', 'devops', 'programming', 'saas', 'ci/cd', 'cicd', \n",
    "'ml', 'data_lake', 'frontend',' front-end', 'back-end', 'backend', 'json', 'xml', 'ios', 'kanban', 'nlp',\n",
    "'iot', 'codebase', 'agile/scrum', 'agile', 'ai/ml', 'ai', 'paas', 'machine_learning', 'macros', 'iaas',\n",
    "'fullstack', 'dataops', 'scrum/agile', 'ssas', 'mlops', 'debug', 'etl', 'a/b', 'slack', 'erp', 'oop', \n",
    "'object-oriented', 'etl/elt', 'elt', 'dashboarding', 'big-data', 'twilio', 'ui/ux', 'ux/ui', 'vlookup', \n",
    "'crossover',  'data_lake', 'data_lakes', 'bi', \n",
    "]\n",
    "\n",
    "keywords = keywords_programming + keywords_libraries + keywords_analyst_tools + keywords_cloud_tools \n",
    "\n",
    "jobs_all = jobs_all[jobs_all.description.notnull()] # filter out null values\n",
    "jobs_all = jobs_all.reset_index() # throwing index issues if don't reset index\n",
    "# jobs_all = jobs_all.head(10) \n",
    "\n",
    "jobs_all['description_tokens'] = \"\"\n",
    "for index, row in jobs_all.iterrows():\n",
    "    # lowercase words\n",
    "    detail = row.description.lower()\n",
    "    # tokenize words\n",
    "    detail = word_tokenize(detail)\n",
    "    # handle multi-word tokenization (e.g., 'Power BI')\n",
    "    multi_tokens = [('power', 'bi'), ('data', 'lake'), ('data', 'lakes'), ('machine', 'learning'), ('objective', 'c'),\n",
    "                    ('visual', 'basic')]\n",
    "    tokenizer = MWETokenizer(multi_tokens)\n",
    "    detail = tokenizer.tokenize(detail)\n",
    "    # remove duplicates\n",
    "    detail = list(set(detail))\n",
    "    # filter for keywords only\n",
    "    detail = [word for word in detail if word in keywords] \n",
    "    # replace duplicate keywords\n",
    "    replace_tokens = {'powerbi' : 'power_bi', 'spreadsheets': 'spreadsheet'}\n",
    "    for key, value in replace_tokens.items():\n",
    "        detail = [d.replace(key, value) for d in detail]\n",
    "    # add to details list # row.description_tokens = detail\n",
    "    jobs_all.at[index, 'description_tokens'] = detail"
   ]
  },
  {
   "cell_type": "markdown",
   "id": "419def82",
   "metadata": {
    "papermill": {
     "duration": 0.010337,
     "end_time": "2023-06-27T03:02:47.361248",
     "exception": false,
     "start_time": "2023-06-27T03:02:47.350911",
     "status": "completed"
    },
    "tags": []
   },
   "source": [
    "## More EDA of Top Skills"
   ]
  },
  {
   "cell_type": "code",
   "execution_count": 8,
   "id": "94f69a9e",
   "metadata": {
    "execution": {
     "iopub.execute_input": "2023-06-27T03:02:47.385193Z",
     "iopub.status.busy": "2023-06-27T03:02:47.384691Z",
     "iopub.status.idle": "2023-06-27T03:02:47.394322Z",
     "shell.execute_reply": "2023-06-27T03:02:47.393068Z"
    },
    "papermill": {
     "duration": 0.024856,
     "end_time": "2023-06-27T03:02:47.396863",
     "exception": false,
     "start_time": "2023-06-27T03:02:47.372007",
     "status": "completed"
    },
    "tags": []
   },
   "outputs": [],
   "source": [
    "def filtered_keywords(jobs_filtered, keywords, title=\"Keyword Analysis\", head=10):\n",
    "    # get keywords in a column\n",
    "    count_keywords = pd.DataFrame(jobs_filtered.description_tokens.sum()).value_counts().rename_axis('keywords').reset_index(name='counts')\n",
    "\n",
    "    # get frequency of occurence of word (as word only appears once per line)\n",
    "    length = len(jobs_filtered) # number of job postings\n",
    "    count_keywords['percentage'] = 100 * count_keywords.counts / length\n",
    "\n",
    "    # plot the results\n",
    "    count_keywords = count_keywords[count_keywords.keywords.isin(keywords)]\n",
    "    count_keywords = count_keywords.head(head)\n",
    "    g = plt.bar(x=\"keywords\", height=\"percentage\", data=count_keywords , color=np.random.rand(len(count_keywords.keywords), 3))\n",
    "    plt.xlabel(\"\")\n",
    "    plt.ylabel(\"Likelyhood to be in job posting (%)\")\n",
    "    plt.xticks(rotation = 45, ha='right')\n",
    "    plt.title(title) \n",
    "    plt.show(g)\n",
    "    print(count_keywords)"
   ]
  },
  {
   "cell_type": "code",
   "execution_count": 9,
   "id": "80c1d376",
   "metadata": {
    "execution": {
     "iopub.execute_input": "2023-06-27T03:02:47.419708Z",
     "iopub.status.busy": "2023-06-27T03:02:47.419286Z",
     "iopub.status.idle": "2023-06-27T03:02:52.993769Z",
     "shell.execute_reply": "2023-06-27T03:02:52.992365Z"
    },
    "papermill": {
     "duration": 5.590098,
     "end_time": "2023-06-27T03:02:52.997295",
     "exception": false,
     "start_time": "2023-06-27T03:02:47.407197",
     "status": "completed"
    },
    "tags": []
   },
   "outputs": [
    {
     "data": {
      "image/png": "[encoded data removed]",
      "text/plain": [
       "<Figure size 432x288 with 1 Axes>"
      ]
     },
     "metadata": {
      "needs_background": "light"
     },
     "output_type": "display_data"
    },
    {
     "name": "stdout",
     "output_type": "stream",
     "text": [
      "      keywords  counts  percentage\n",
      "0          sql   11137   51.667826\n",
      "3       python    6078   28.197634\n",
      "5            r    3903   18.107168\n",
      "6          sas    2068    9.594062\n",
      "15          go     800    3.711436\n",
      "19       scala     679    3.150081\n",
      "22           c     608    2.820691\n",
      "24         vba     541    2.509859\n",
      "27  javascript     478    2.217583\n",
      "28       nosql     477    2.212944\n"
     ]
    }
   ],
   "source": [
    "filtered_keywords(jobs_all, keywords_programming, title=\"Top Programming Languages for Data Analysts\")"
   ]
  },
  {
   "cell_type": "code",
   "execution_count": 10,
   "id": "fed94db1",
   "metadata": {
    "execution": {
     "iopub.execute_input": "2023-06-27T03:02:53.021829Z",
     "iopub.status.busy": "2023-06-27T03:02:53.021399Z",
     "iopub.status.idle": "2023-06-27T03:02:58.875347Z",
     "shell.execute_reply": "2023-06-27T03:02:58.873871Z"
    },
    "papermill": {
     "duration": 5.869576,
     "end_time": "2023-06-27T03:02:58.878170",
     "exception": false,
     "start_time": "2023-06-27T03:02:53.008594",
     "status": "completed"
    },
    "tags": []
   },
   "outputs": [
    {
     "data": {
      "image/png": "[encoded data removed]",
      "text/plain": [
       "<Figure size 432x288 with 1 Axes>"
      ]
     },
     "metadata": {
      "needs_background": "light"
     },
     "output_type": "display_data"
    },
    {
     "name": "stdout",
     "output_type": "stream",
     "text": [
      "     keywords  counts  percentage\n",
      "0         sql   11137   51.667826\n",
      "1       excel    7547   35.012758\n",
      "2     tableau    6112   28.355370\n",
      "3      python    6078   28.197634\n",
      "4    power_bi    5923   27.478543\n",
      "5           r    3903   18.107168\n",
      "6         sas    2068    9.594062\n",
      "7        word    1645    7.631640\n",
      "8  powerpoint    1638    7.599165\n",
      "9   snowflake    1325    6.147066\n"
     ]
    }
   ],
   "source": [
    "filtered_keywords(jobs_all, keywords, title=\"Top Tools for Data Analysts\")"
   ]
  },
  {
   "cell_type": "markdown",
   "id": "8426a6fa",
   "metadata": {
    "papermill": {
     "duration": 0.010712,
     "end_time": "2023-06-27T03:02:58.900288",
     "exception": false,
     "start_time": "2023-06-27T03:02:58.889576",
     "status": "completed"
    },
    "tags": []
   },
   "source": [
    "#### Bonus: Skill vs. Salary"
   ]
  },
  {
   "cell_type": "code",
   "execution_count": 11,
   "id": "a2fa6d50",
   "metadata": {
    "execution": {
     "iopub.execute_input": "2023-06-27T03:02:58.924836Z",
     "iopub.status.busy": "2023-06-27T03:02:58.924389Z",
     "iopub.status.idle": "2023-06-27T03:02:58.929846Z",
     "shell.execute_reply": "2023-06-27T03:02:58.928614Z"
    },
    "papermill": {
     "duration": 0.021026,
     "end_time": "2023-06-27T03:02:58.932499",
     "exception": false,
     "start_time": "2023-06-27T03:02:58.911473",
     "status": "completed"
    },
    "tags": []
   },
   "outputs": [],
   "source": [
    "# Felt cute... may try to analyze later"
   ]
  },
  {
   "cell_type": "markdown",
   "id": "4bef7b64",
   "metadata": {
    "papermill": {
     "duration": 0.010567,
     "end_time": "2023-06-27T03:02:58.954129",
     "exception": false,
     "start_time": "2023-06-27T03:02:58.943562",
     "status": "completed"
    },
    "tags": []
   },
   "source": [
    "# Skill Clusters\n",
    "* Get a correlation matrix of skills that co-occur\n",
    "* Cluster skills into co-occurring groups"
   ]
  },
  {
   "cell_type": "code",
   "execution_count": 12,
   "id": "89e42ca6",
   "metadata": {
    "execution": {
     "iopub.execute_input": "2023-06-27T03:02:58.977913Z",
     "iopub.status.busy": "2023-06-27T03:02:58.977473Z",
     "iopub.status.idle": "2023-06-27T03:02:59.004509Z",
     "shell.execute_reply": "2023-06-27T03:02:59.003571Z"
    },
    "papermill": {
     "duration": 0.041929,
     "end_time": "2023-06-27T03:02:59.006842",
     "exception": false,
     "start_time": "2023-06-27T03:02:58.964913",
     "status": "completed"
    },
    "scrolled": true,
    "tags": []
   },
   "outputs": [
    {
     "data": {
      "text/plain": [
       "sql              11137\n",
       "excel             7547\n",
       "tableau           6112\n",
       "python            6078\n",
       "power_bi          5923\n",
       "r                 3903\n",
       "sas               2068\n",
       "word              1645\n",
       "powerpoint        1638\n",
       "snowflake         1325\n",
       "aws               1242\n",
       "azure             1153\n",
       "spark              939\n",
       "looker             916\n",
       "spss               807\n",
       "go                 800\n",
       "spreadsheet        786\n",
       "jira               778\n",
       "sap                752\n",
       "scala              679\n",
       "microstrategy      653\n",
       "alteryx            646\n",
       "c                  608\n",
       "hadoop             571\n",
       "vba                541\n",
       "outlook            520\n",
       "sharepoint         512\n",
       "javascript         478\n",
       "nosql              477\n",
       "java               476\n",
       "ssrs               413\n",
       "ssis               413\n",
       "bigquery           406\n",
       "qlik               405\n",
       "mysql              344\n",
       "redshift           338\n",
       "gcp                292\n",
       "pandas             273\n",
       "visio              269\n",
       "cognos             260\n",
       "matlab             257\n",
       "dax                253\n",
       "pl/sql             244\n",
       "git                224\n",
       "t-sql              199\n",
       "numpy              196\n",
       "postgresql         188\n",
       "crystal            184\n",
       "html               169\n",
       "airflow            167\n",
       "linux              165\n",
       "tensorflow         158\n",
       "pyspark            155\n",
       "c++                154\n",
       "matplotlib         153\n",
       "github             149\n",
       "unix               146\n",
       "scikit-learn       136\n",
       "postgres           130\n",
       "visual_basic       123\n",
       "swift              122\n",
       "jupyter            111\n",
       "docker             104\n",
       "shell               94\n",
       "splunk              90\n",
       "powershell          90\n",
       "css                 86\n",
       "mongodb             75\n",
       "assembly            65\n",
       "pytorch             63\n",
       "ggplot2             59\n",
       "mssql               55\n",
       "atlassian           52\n",
       "perl                51\n",
       "ruby                50\n",
       "gdpr                50\n",
       "plotly              47\n",
       "bash                41\n",
       "terminal            40\n",
       "php                 39\n",
       "seaborn             35\n",
       "gitlab              32\n",
       "bitbucket           29\n",
       "keras               28\n",
       "selenium            27\n",
       "aurora              27\n",
       "c/c++               26\n",
       "unix/linux          26\n",
       "js                  25\n",
       "mongo               23\n",
       "julia               21\n",
       "jquery              21\n",
       "asp.net             17\n",
       "dplyr               16\n",
       "nuix                16\n",
       "node                14\n",
       "no-sql              12\n",
       "linux/unix          12\n",
       "redis               11\n",
       "node.js             11\n",
       "vb.net              11\n",
       "typescript          10\n",
       "vue                 10\n",
       "golang              10\n",
       "cobol               10\n",
       "apl                  9\n",
       "rshiny               9\n",
       "fortran              8\n",
       "graphql              8\n",
       "rust                 8\n",
       "groovy               7\n",
       "powerpoints          6\n",
       "solidity             4\n",
       "nltk                 4\n",
       "clojure              4\n",
       "twilio               3\n",
       "vue.js               2\n",
       "datarobot            2\n",
       "dart                 2\n",
       "mxnet                2\n",
       "delphi               1\n",
       "tidyr                1\n",
       "Name: description_tokens, dtype: int64"
      ]
     },
     "execution_count": 12,
     "metadata": {},
     "output_type": "execute_result"
    }
   ],
   "source": [
    "jobs_all['description_tokens'].explode().value_counts()"
   ]
  },
  {
   "cell_type": "code",
   "execution_count": 13,
   "id": "7667fe9a",
   "metadata": {
    "execution": {
     "iopub.execute_input": "2023-06-27T03:02:59.032897Z",
     "iopub.status.busy": "2023-06-27T03:02:59.031580Z",
     "iopub.status.idle": "2023-06-27T03:02:59.134794Z",
     "shell.execute_reply": "2023-06-27T03:02:59.133335Z"
    },
    "papermill": {
     "duration": 0.119309,
     "end_time": "2023-06-27T03:02:59.137720",
     "exception": false,
     "start_time": "2023-06-27T03:02:59.018411",
     "status": "completed"
    },
    "tags": []
   },
   "outputs": [
    {
     "data": {
      "text/html": [
       "<div>\n",
       "<style scoped>\n",
       "    .dataframe tbody tr th:only-of-type {\n",
       "        vertical-align: middle;\n",
       "    }\n",
       "\n",
       "    .dataframe tbody tr th {\n",
       "        vertical-align: top;\n",
       "    }\n",
       "\n",
       "    .dataframe thead th {\n",
       "        text-align: right;\n",
       "    }\n",
       "</style>\n",
       "<table border=\"1\" class=\"dataframe\">\n",
       "  <thead>\n",
       "    <tr style=\"text-align: right;\">\n",
       "      <th></th>\n",
       "      <th>sql</th>\n",
       "      <th>excel</th>\n",
       "      <th>tableau</th>\n",
       "      <th>python</th>\n",
       "      <th>power_bi</th>\n",
       "      <th>r</th>\n",
       "      <th>sas</th>\n",
       "      <th>word</th>\n",
       "      <th>powerpoint</th>\n",
       "      <th>snowflake</th>\n",
       "      <th>...</th>\n",
       "      <th>microstrategy</th>\n",
       "      <th>alteryx</th>\n",
       "      <th>c</th>\n",
       "      <th>hadoop</th>\n",
       "      <th>vba</th>\n",
       "      <th>outlook</th>\n",
       "      <th>sharepoint</th>\n",
       "      <th>javascript</th>\n",
       "      <th>nosql</th>\n",
       "      <th>java</th>\n",
       "    </tr>\n",
       "  </thead>\n",
       "  <tbody>\n",
       "    <tr>\n",
       "      <th>0</th>\n",
       "      <td>0</td>\n",
       "      <td>0</td>\n",
       "      <td>0</td>\n",
       "      <td>0</td>\n",
       "      <td>0</td>\n",
       "      <td>0</td>\n",
       "      <td>0</td>\n",
       "      <td>0</td>\n",
       "      <td>0</td>\n",
       "      <td>0</td>\n",
       "      <td>...</td>\n",
       "      <td>0</td>\n",
       "      <td>0</td>\n",
       "      <td>0</td>\n",
       "      <td>0</td>\n",
       "      <td>0</td>\n",
       "      <td>0</td>\n",
       "      <td>0</td>\n",
       "      <td>0</td>\n",
       "      <td>0</td>\n",
       "      <td>0</td>\n",
       "    </tr>\n",
       "    <tr>\n",
       "      <th>1</th>\n",
       "      <td>1</td>\n",
       "      <td>1</td>\n",
       "      <td>0</td>\n",
       "      <td>0</td>\n",
       "      <td>1</td>\n",
       "      <td>0</td>\n",
       "      <td>0</td>\n",
       "      <td>0</td>\n",
       "      <td>0</td>\n",
       "      <td>0</td>\n",
       "      <td>...</td>\n",
       "      <td>0</td>\n",
       "      <td>0</td>\n",
       "      <td>0</td>\n",
       "      <td>0</td>\n",
       "      <td>0</td>\n",
       "      <td>0</td>\n",
       "      <td>0</td>\n",
       "      <td>0</td>\n",
       "      <td>0</td>\n",
       "      <td>0</td>\n",
       "    </tr>\n",
       "    <tr>\n",
       "      <th>2</th>\n",
       "      <td>1</td>\n",
       "      <td>1</td>\n",
       "      <td>1</td>\n",
       "      <td>0</td>\n",
       "      <td>0</td>\n",
       "      <td>0</td>\n",
       "      <td>0</td>\n",
       "      <td>0</td>\n",
       "      <td>0</td>\n",
       "      <td>0</td>\n",
       "      <td>...</td>\n",
       "      <td>0</td>\n",
       "      <td>0</td>\n",
       "      <td>0</td>\n",
       "      <td>0</td>\n",
       "      <td>0</td>\n",
       "      <td>0</td>\n",
       "      <td>0</td>\n",
       "      <td>0</td>\n",
       "      <td>0</td>\n",
       "      <td>0</td>\n",
       "    </tr>\n",
       "    <tr>\n",
       "      <th>3</th>\n",
       "      <td>0</td>\n",
       "      <td>0</td>\n",
       "      <td>0</td>\n",
       "      <td>0</td>\n",
       "      <td>0</td>\n",
       "      <td>0</td>\n",
       "      <td>0</td>\n",
       "      <td>0</td>\n",
       "      <td>0</td>\n",
       "      <td>0</td>\n",
       "      <td>...</td>\n",
       "      <td>0</td>\n",
       "      <td>0</td>\n",
       "      <td>0</td>\n",
       "      <td>0</td>\n",
       "      <td>0</td>\n",
       "      <td>0</td>\n",
       "      <td>0</td>\n",
       "      <td>0</td>\n",
       "      <td>0</td>\n",
       "      <td>0</td>\n",
       "    </tr>\n",
       "    <tr>\n",
       "      <th>4</th>\n",
       "      <td>0</td>\n",
       "      <td>1</td>\n",
       "      <td>0</td>\n",
       "      <td>0</td>\n",
       "      <td>0</td>\n",
       "      <td>0</td>\n",
       "      <td>0</td>\n",
       "      <td>0</td>\n",
       "      <td>0</td>\n",
       "      <td>0</td>\n",
       "      <td>...</td>\n",
       "      <td>0</td>\n",
       "      <td>0</td>\n",
       "      <td>0</td>\n",
       "      <td>0</td>\n",
       "      <td>0</td>\n",
       "      <td>0</td>\n",
       "      <td>0</td>\n",
       "      <td>0</td>\n",
       "      <td>0</td>\n",
       "      <td>0</td>\n",
       "    </tr>\n",
       "  </tbody>\n",
       "</table>\n",
       "<p>5 rows × 30 columns</p>\n",
       "</div>"
      ],
      "text/plain": [
       "   sql  excel  tableau  python  power_bi  r  sas  word  powerpoint  snowflake  \\\n",
       "0    0      0        0       0         0  0    0     0           0          0   \n",
       "1    1      1        0       0         1  0    0     0           0          0   \n",
       "2    1      1        1       0         0  0    0     0           0          0   \n",
       "3    0      0        0       0         0  0    0     0           0          0   \n",
       "4    0      1        0       0         0  0    0     0           0          0   \n",
       "\n",
       "   ...  microstrategy  alteryx  c  hadoop  vba  outlook  sharepoint  \\\n",
       "0  ...              0        0  0       0    0        0           0   \n",
       "1  ...              0        0  0       0    0        0           0   \n",
       "2  ...              0        0  0       0    0        0           0   \n",
       "3  ...              0        0  0       0    0        0           0   \n",
       "4  ...              0        0  0       0    0        0           0   \n",
       "\n",
       "   javascript  nosql  java  \n",
       "0           0      0     0  \n",
       "1           0      0     0  \n",
       "2           0      0     0  \n",
       "3           0      0     0  \n",
       "4           0      0     0  \n",
       "\n",
       "[5 rows x 30 columns]"
      ]
     },
     "execution_count": 13,
     "metadata": {},
     "output_type": "execute_result"
    }
   ],
   "source": [
    "from sklearn.preprocessing import MultiLabelBinarizer\n",
    "\n",
    "# Initialize the MultiLabelBinarizer\n",
    "mlb = MultiLabelBinarizer()\n",
    "\n",
    "# Apply the MultiLabelBinarizer on the 'col' column\n",
    "skills_mat = mlb.fit_transform(jobs_all['description_tokens'])\n",
    "\n",
    "# Create a new DataFrame from the matrix\n",
    "skills_df = pd.DataFrame(skills_mat, columns=mlb.classes_)\n",
    "\n",
    "# drop rare - keep top 30 for better viz\n",
    "skills_df = skills_df[\n",
    "    jobs_all['description_tokens'].explode().value_counts().head(30).index.tolist()\n",
    "]\n",
    "\n",
    "# Print the result\n",
    "skills_df.head(5)"
   ]
  },
  {
   "cell_type": "code",
   "execution_count": 14,
   "id": "a946c99d",
   "metadata": {
    "execution": {
     "iopub.execute_input": "2023-06-27T03:02:59.164201Z",
     "iopub.status.busy": "2023-06-27T03:02:59.163764Z",
     "iopub.status.idle": "2023-06-27T03:02:59.448144Z",
     "shell.execute_reply": "2023-06-27T03:02:59.446900Z"
    },
    "papermill": {
     "duration": 0.300295,
     "end_time": "2023-06-27T03:02:59.451088",
     "exception": false,
     "start_time": "2023-06-27T03:02:59.150793",
     "status": "completed"
    },
    "tags": []
   },
   "outputs": [],
   "source": [
    "import numpy as np\n",
    "import seaborn as sns\n",
    "import matplotlib.pyplot as plt\n",
    "\n",
    "corr = skills_df.corr()"
   ]
  },
  {
   "cell_type": "code",
   "execution_count": 15,
   "id": "ec75b5c5",
   "metadata": {
    "execution": {
     "iopub.execute_input": "2023-06-27T03:02:59.476989Z",
     "iopub.status.busy": "2023-06-27T03:02:59.476556Z",
     "iopub.status.idle": "2023-06-27T03:02:59.869853Z",
     "shell.execute_reply": "2023-06-27T03:02:59.867954Z"
    },
    "papermill": {
     "duration": 0.409207,
     "end_time": "2023-06-27T03:02:59.872547",
     "exception": false,
     "start_time": "2023-06-27T03:02:59.463340",
     "status": "completed"
    },
    "tags": []
   },
   "outputs": [
    {
     "data": {
      "image/png": "[encoded data removed]",
      "text/plain": [
       "<Figure size 720x432 with 1 Axes>"
      ]
     },
     "metadata": {
      "needs_background": "light"
     },
     "output_type": "display_data"
    }
   ],
   "source": [
    "import pandas as pd\n",
    "import seaborn as sns\n",
    "from scipy.cluster import hierarchy\n",
    "import matplotlib.pyplot as plt\n",
    "\n",
    "# Assuming you have a correlation matrix called 'corr'\n",
    "# Create a distance matrix based on correlation coefficients\n",
    "dist_matrix = 1 - corr.abs()\n",
    "\n",
    "# Perform hierarchical clustering\n",
    "linkage = hierarchy.linkage(dist_matrix, method='average')\n",
    "\n",
    "# Plot the dendrogram\n",
    "plt.figure(figsize=(10, 6))\n",
    "dendrogram = hierarchy.dendrogram(linkage, labels=corr.index, leaf_rotation=90)\n",
    "plt.xlabel('Skills')\n",
    "plt.ylabel('Distance')\n",
    "plt.title('Hierarchical Clustering Dendrogram')\n",
    "plt.show()"
   ]
  },
  {
   "cell_type": "code",
   "execution_count": 16,
   "id": "7883cdab",
   "metadata": {
    "execution": {
     "iopub.execute_input": "2023-06-27T03:02:59.900728Z",
     "iopub.status.busy": "2023-06-27T03:02:59.899830Z",
     "iopub.status.idle": "2023-06-27T03:03:00.670891Z",
     "shell.execute_reply": "2023-06-27T03:03:00.669550Z"
    },
    "papermill": {
     "duration": 0.788635,
     "end_time": "2023-06-27T03:03:00.673624",
     "exception": false,
     "start_time": "2023-06-27T03:02:59.884989",
     "status": "completed"
    },
    "tags": []
   },
   "outputs": [
    {
     "data": {
      "image/png": "[encoded data removed]",
      "text/plain": [
       "<Figure size 792x648 with 2 Axes>"
      ]
     },
     "metadata": {
      "needs_background": "light"
     },
     "output_type": "display_data"
    }
   ],
   "source": [
    "# Reorder the rows of the correlation matrix based on the clustering\n",
    "ordered_corr = corr.iloc[dendrogram['leaves'], dendrogram['leaves']]\n",
    "\n",
    "f, ax = plt.subplots(figsize=(11, 9))\n",
    "# mask = np.triu(np.ones_like(corr, dtype=np.bool))\n",
    "cmap = sns.diverging_palette(220, 10, as_cmap=True)\n",
    "sns.heatmap(\n",
    "    ordered_corr, \n",
    "#     mask=mask, \n",
    "    cmap=cmap, vmax=0.5, center=0,\n",
    "    square=True, linewidths=.5, cbar_kws={\"shrink\": .5}\n",
    ")\n",
    "plt.title('Cluster-Ordered Correlation Matrix')\n",
    "plt.show()"
   ]
  },
  {
   "cell_type": "code",
   "execution_count": null,
   "id": "a103fce6",
   "metadata": {
    "papermill": {
     "duration": 0.014937,
     "end_time": "2023-06-27T03:03:00.702934",
     "exception": false,
     "start_time": "2023-06-27T03:03:00.687997",
     "status": "completed"
    },
    "tags": []
   },
   "outputs": [],
   "source": []
  }
 ],
 "metadata": {
  "kernelspec": {
   "display_name": "Python 3",
   "language": "python",
   "name": "python3"
  },
  "language_info": {
   "codemirror_mode": {
    "name": "ipython",
    "version": 3
   },
   "file_extension": ".py",
   "mimetype": "text/x-python",
   "name": "python",
   "nbconvert_exporter": "python",
   "pygments_lexer": "ipython3",
   "version": "3.7.12"
  },
  "papermill": {
   "default_parameters": {},
   "duration": 154.400542,
   "end_time": "2023-06-27T03:03:01.641942",
   "environment_variables": {},
   "exception": null,
   "input_path": "__notebook__.ipynb",
   "output_path": "__notebook__.ipynb",
   "parameters": {},
   "start_time": "2023-06-27T03:00:27.241400",
   "version": "2.3.4"
  }
 },
 "nbformat": 4,
 "nbformat_minor": 5
}
