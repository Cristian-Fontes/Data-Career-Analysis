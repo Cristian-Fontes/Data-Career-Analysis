{
 "cells": [
  {
   "cell_type": "code",
   "execution_count": 1,
   "metadata": {},
   "outputs": [],
   "source": [
    "import kaggle\n",
    "import zipfile\n",
    "import pandas as pd"
   ]
  },
  {
   "cell_type": "code",
   "execution_count": 1,
   "metadata": {},
   "outputs": [],
   "source": [
    "#Remember to set up your account in your kaggle files"
   ]
  },
  {
   "cell_type": "code",
   "execution_count": 2,
   "metadata": {},
   "outputs": [
    {
     "name": "stdout",
     "output_type": "stream",
     "text": [
      "Downloading data-analyst-job-postings-google-search.zip to c:\\Users\\THE TOWER\\OneDrive - ALVAREZ AUTOMOTRIZ\\DS Mentoring\\Data Career Analysis\n",
      "\n"
     ]
    },
    {
     "name": "stderr",
     "output_type": "stream",
     "text": [
      "\n",
      "  0%|          | 0.00/43.7M [00:00<?, ?B/s]\n",
      "  2%|▏         | 1.00M/43.7M [00:00<00:26, 1.68MB/s]\n",
      "  5%|▍         | 2.00M/43.7M [00:01<00:31, 1.40MB/s]\n",
      "  7%|▋         | 3.00M/43.7M [00:02<00:30, 1.41MB/s]\n",
      "  9%|▉         | 4.00M/43.7M [00:03<00:30, 1.35MB/s]\n",
      " 11%|█▏        | 5.00M/43.7M [00:03<00:27, 1.45MB/s]\n",
      " 14%|█▎        | 6.00M/43.7M [00:04<00:25, 1.56MB/s]\n",
      " 16%|█▌        | 7.00M/43.7M [00:04<00:23, 1.66MB/s]\n",
      " 18%|█▊        | 8.00M/43.7M [00:05<00:21, 1.73MB/s]\n",
      " 21%|██        | 9.00M/43.7M [00:05<00:20, 1.78MB/s]\n",
      " 23%|██▎       | 10.0M/43.7M [00:06<00:19, 1.85MB/s]\n",
      " 25%|██▌       | 11.0M/43.7M [00:06<00:17, 1.92MB/s]\n",
      " 27%|██▋       | 12.0M/43.7M [00:07<00:15, 2.12MB/s]\n",
      " 30%|██▉       | 13.0M/43.7M [00:07<00:14, 2.19MB/s]\n",
      " 32%|███▏      | 14.0M/43.7M [00:08<00:13, 2.24MB/s]\n",
      " 34%|███▍      | 15.0M/43.7M [00:08<00:13, 2.28MB/s]\n",
      " 37%|███▋      | 16.0M/43.7M [00:09<00:14, 2.01MB/s]\n",
      " 39%|███▉      | 17.0M/43.7M [00:09<00:14, 1.93MB/s]\n",
      " 41%|████      | 18.0M/43.7M [00:10<00:14, 1.80MB/s]\n",
      " 43%|████▎     | 19.0M/43.7M [00:11<00:15, 1.72MB/s]\n",
      " 46%|████▌     | 20.0M/43.7M [00:11<00:15, 1.60MB/s]\n",
      " 48%|████▊     | 21.0M/43.7M [00:12<00:14, 1.63MB/s]\n",
      " 50%|█████     | 22.0M/43.7M [00:13<00:14, 1.57MB/s]\n",
      " 53%|█████▎    | 23.0M/43.7M [00:14<00:14, 1.54MB/s]\n",
      " 55%|█████▍    | 24.0M/43.7M [00:14<00:13, 1.51MB/s]\n",
      " 57%|█████▋    | 25.0M/43.7M [00:15<00:13, 1.50MB/s]\n",
      " 60%|█████▉    | 26.0M/43.7M [00:16<00:13, 1.34MB/s]\n",
      " 62%|██████▏   | 27.0M/43.7M [00:17<00:12, 1.42MB/s]\n",
      " 64%|██████▍   | 28.0M/43.7M [00:17<00:10, 1.50MB/s]\n",
      " 66%|██████▋   | 29.0M/43.7M [00:17<00:08, 1.84MB/s]\n",
      " 69%|██████▊   | 30.0M/43.7M [00:18<00:07, 1.84MB/s]\n",
      " 71%|███████   | 31.0M/43.7M [00:19<00:07, 1.79MB/s]\n",
      " 73%|███████▎  | 32.0M/43.7M [00:19<00:06, 1.96MB/s]\n",
      " 76%|███████▌  | 33.0M/43.7M [00:20<00:05, 1.89MB/s]\n",
      " 78%|███████▊  | 34.0M/43.7M [00:20<00:05, 1.84MB/s]\n",
      " 80%|████████  | 35.0M/43.7M [00:21<00:04, 1.85MB/s]\n",
      " 82%|████████▏ | 36.0M/43.7M [00:21<00:04, 1.97MB/s]\n",
      " 85%|████████▍ | 37.0M/43.7M [00:22<00:03, 2.04MB/s]\n",
      " 87%|████████▋ | 38.0M/43.7M [00:22<00:02, 2.08MB/s]\n",
      " 89%|████████▉ | 39.0M/43.7M [00:23<00:02, 2.12MB/s]\n",
      " 92%|█████████▏| 40.0M/43.7M [00:23<00:01, 2.14MB/s]\n",
      " 94%|█████████▍| 41.0M/43.7M [00:24<00:01, 2.15MB/s]\n",
      " 96%|█████████▌| 42.0M/43.7M [00:24<00:00, 2.01MB/s]\n",
      " 98%|█████████▊| 43.0M/43.7M [00:25<00:00, 1.96MB/s]\n",
      "100%|██████████| 43.7M/43.7M [00:25<00:00, 1.93MB/s]\n",
      "100%|██████████| 43.7M/43.7M [00:25<00:00, 1.78MB/s]\n"
     ]
    }
   ],
   "source": [
    "!kaggle datasets download -d lukebarousse/data-analyst-job-postings-google-search"
   ]
  },
  {
   "cell_type": "code",
   "execution_count": 3,
   "metadata": {},
   "outputs": [],
   "source": [
    "with zipfile.ZipFile('data-analyst-job-postings-google-search.zip',mode='r') as archive:\n",
    "    archive.extractall()"
   ]
  }
 ],
 "metadata": {
  "kernelspec": {
   "display_name": "base",
   "language": "python",
   "name": "python3"
  },
  "language_info": {
   "codemirror_mode": {
    "name": "ipython",
    "version": 3
   },
   "file_extension": ".py",
   "mimetype": "text/x-python",
   "name": "python",
   "nbconvert_exporter": "python",
   "pygments_lexer": "ipython3",
   "version": "3.9.17"
  },
  "orig_nbformat": 4
 },
 "nbformat": 4,
 "nbformat_minor": 2
}
